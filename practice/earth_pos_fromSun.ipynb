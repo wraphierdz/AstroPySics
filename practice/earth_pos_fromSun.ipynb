{
 "cells": [
  {
   "cell_type": "code",
   "execution_count": 5,
   "metadata": {},
   "outputs": [],
   "source": [
    "import spiceypy as spy"
   ]
  },
  {
   "cell_type": "markdown",
   "metadata": {},
   "source": [
    "Convert UTC to ephemeris time (utc2et)"
   ]
  },
  {
   "cell_type": "code",
   "execution_count": null,
   "metadata": {},
   "outputs": [
    {
     "name": "stdout",
     "output_type": "stream",
     "text": [
      "Today's datetime\t\t:2024-11-29 08:35:34.245241\n",
      "On midnight(string format)\t:24/11/29, 00:00:00\n",
      "ephemeris time\t\t\t:976449669.1833235\n"
     ]
    }
   ],
   "source": [
    "import datetime as dt\n",
    "spy.furnsh(r'..\\learn\\_kernels\\lsk\\naif0012.tls') #load the kernel used to conversion, pointing, position determination, etc.\n",
    "\n",
    "dateToday = dt.datetime.today() #get today's date\n",
    "print(f\"Today's datetime{'\\t'*2}:{dateToday}\")\n",
    "dateToday = dateToday.strftime('%y/%m/%d, 00:00:00') #convert datetime to string, replacing the time with midnight. use the acceptable format for utc2et(), i.e y/m/d\n",
    "print(f'On midnight(string format)\\t:{dateToday}')\n",
    "et_todayMidnight = spy.utc2et(dateToday)\n",
    "print(f'ephemeris time{'\\t'*3}:{et_todayMidnight}')"
   ]
  }
 ],
 "metadata": {
  "kernelspec": {
   "display_name": "Python 3",
   "language": "python",
   "name": "python3"
  },
  "language_info": {
   "codemirror_mode": {
    "name": "ipython",
    "version": 3
   },
   "file_extension": ".py",
   "mimetype": "text/x-python",
   "name": "python",
   "nbconvert_exporter": "python",
   "pygments_lexer": "ipython3",
   "version": "3.12.4"
  }
 },
 "nbformat": 4,
 "nbformat_minor": 2
}
